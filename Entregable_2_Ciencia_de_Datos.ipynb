{
  "nbformat": 4,
  "nbformat_minor": 0,
  "metadata": {
    "colab": {
      "provenance": [],
      "include_colab_link": true
    },
    "kernelspec": {
      "name": "python3",
      "display_name": "Python 3"
    },
    "language_info": {
      "name": "python"
    }
  },
  "cells": [
    {
      "cell_type": "markdown",
      "metadata": {
        "id": "view-in-github",
        "colab_type": "text"
      },
      "source": [
        "<a href=\"https://colab.research.google.com/github/valjara9/Entregable-1/blob/master/Entregable_2_Ciencia_de_Datos.ipynb\" target=\"_parent\"><img src=\"https://colab.research.google.com/assets/colab-badge.svg\" alt=\"Open In Colab\"/></a>"
      ]
    },
    {
      "cell_type": "code",
      "execution_count": 52,
      "metadata": {
        "id": "jNLBYtowQfBc",
        "outputId": "75642874-62d6-4bde-ea0d-0ed58864bf0c",
        "colab": {
          "base_uri": "https://localhost:8080/"
        }
      },
      "outputs": [
        {
          "output_type": "stream",
          "name": "stdout",
          "text": [
            "               Analgesicos  Vida media (horas)  \\\n",
            "0   Acido acetilsalicilico                 3.0   \n",
            "1              Paracetamol                 3.0   \n",
            "2               Nimesulida                 5.0   \n",
            "3              Ketoprofeno                 2.0   \n",
            "4             Indometacina                 4.5   \n",
            "5              Diclofenaco                 2.0   \n",
            "6               Ibuprofeno                 4.0   \n",
            "7         Acido mefenamico                 2.0   \n",
            "8               Diflunisal                12.0   \n",
            "9                Naproxeno                15.0   \n",
            "10               Metamizol                 7.0   \n",
            "11               Piroxicam                45.0   \n",
            "12               Tenoxicam                72.0   \n",
            "13               Rofecoxib                17.0   \n",
            "14               Calecoxib                11.0   \n",
            "15             Ketoprofeno                 6.0   \n",
            "16           Flurbiprofeno                20.0   \n",
            "17               Meloxicam                22.0   \n",
            "18              Etoricoxib                 6.0   \n",
            "19               Tolmetina                 4.0   \n",
            "20           Meclofenamato                60.0   \n",
            "21              Oxaprozina                24.0   \n",
            "22              Nabumetona                 7.0   \n",
            "23               Etodolaco                 4.0   \n",
            "24              Lornoxicam                60.0   \n",
            "25           Fenilbutazona                72.0   \n",
            "26          Dexketoprofeno                 2.0   \n",
            "27           Dexibuprofeno                 8.0   \n",
            "\n",
            "                           Clasificación  \n",
            "0          Derivado del ácido salicílico  \n",
            "1   No es AINE (Analgésico/antipirético)  \n",
            "2                          Sulfonanilida  \n",
            "3          Derivado del ácido propiónico  \n",
            "4             Derivado del ácido acético  \n",
            "5             Derivado del ácido acético  \n",
            "6          Derivado del ácido propiónico  \n",
            "7         Derivado del ácido antranílico  \n",
            "8          Derivado del ácido salicílico  \n",
            "9          Derivado del ácido propiónico  \n",
            "10                            Pirazolona  \n",
            "11                                Oxicam  \n",
            "12                                Oxicam  \n",
            "13             Inhibidor selectivo COX-2  \n",
            "14             Inhibidor selectivo COX-2  \n",
            "15         Derivado del ácido propiónico  \n",
            "16         Derivado del ácido propiónico  \n",
            "17                                Oxicam  \n",
            "18             Inhibidor selectivo COX-2  \n",
            "19            Derivado del ácido acético  \n",
            "20        Derivado del ácido antranílico  \n",
            "21         Derivado del ácido propiónico  \n",
            "22   Derivado del ácido naftilpropiónico  \n",
            "23            Derivado del ácido acético  \n",
            "24                                Oxicam  \n",
            "25                            Pirazolona  \n",
            "26         Derivado del ácido propiónico  \n",
            "27         Derivado del ácido propiónico  \n"
          ]
        }
      ],
      "source": [
        "import pandas as pd\n",
        "import numpy as np\n",
        "\n",
        "#1 Creacion del dataframe\n",
        "data= {'Analgesicos': ['Acido acetilsalicilico', 'Paracetamol', 'Nimesulida', 'Ketoprofeno', 'Indometacina', 'Diclofenaco', 'Ibuprofeno', 'Acido mefenamico', 'Diflunisal', 'Naproxeno', 'Metamizol', 'Piroxicam', 'Tenoxicam', 'Rofecoxib', 'Calecoxib'\n",
        ", 'Ketoprofeno', 'Flurbiprofeno', 'Meloxicam', 'Etoricoxib', 'Tolmetina', 'Meclofenamato', 'Oxaprozina', 'Nabumetona', 'Etodolaco', 'Lornoxicam', 'Fenilbutazona', 'Dexketoprofeno', 'Dexibuprofeno'],\n",
        "        'Vida media (horas)': [3, 3, 5, 2, 4.5, 2, 4, 2, 12, 15, 7, 45, 72, 17, 11, 6, 20, 22, 6, 4, 60, 24, 7, 4, 60, 72, 2, 8],\n",
        "        'Clasificación': ['Derivado del ácido salicílico', 'No es AINE (Analgésico/antipirético)', 'Sulfonanilida', 'Derivado del ácido propiónico', 'Derivado del ácido acético', 'Derivado del ácido acético', 'Derivado del ácido propiónico', 'Derivado del ácido antranílico', 'Derivado del ácido salicílico', 'Derivado del ácido propiónico', 'Pirazolona', 'Oxicam', 'Oxicam', 'Inhibidor selectivo COX-2', 'Inhibidor selectivo COX-2', 'Derivado del ácido propiónico', 'Derivado del ácido propiónico', 'Oxicam', 'Inhibidor selectivo COX-2', 'Derivado del ácido acético', 'Derivado del ácido antranílico','Derivado del ácido propiónico', 'Derivado del ácido naftilpropiónico', 'Derivado del ácido acético', 'Oxicam', 'Pirazolona', 'Derivado del ácido propiónico', 'Derivado del ácido propiónico']}\n",
        "df = pd.DataFrame(data)\n",
        "print(df)\n"
      ]
    },
    {
      "cell_type": "code",
      "source": [
        "#2 Etiqueta\n",
        "# Debido al contexto elegido de los analgesicos una vida media larga representa ventajas considerables como una menor frecuencia de administracion y un efecto sostenido\n",
        "\n",
        "df['Vida media (horas)'] = pd.to_numeric(df['Vida media (horas)'])\n",
        "\n",
        "df['Category'] = df['Vida media (horas)'].apply(lambda x: 'Long' if x >= 24 else 'Short')\n",
        "print(df.loc[df['Category'] == 'Long'])"
      ],
      "metadata": {
        "id": "m6JMz5zmfaeg",
        "colab": {
          "base_uri": "https://localhost:8080/"
        },
        "outputId": "27bed624-9cda-43f2-bdf7-718eaa51c025"
      },
      "execution_count": 53,
      "outputs": [
        {
          "output_type": "stream",
          "name": "stdout",
          "text": [
            "      Analgesicos  Vida media (horas)                   Clasificación Category\n",
            "11      Piroxicam                45.0                          Oxicam     Long\n",
            "12      Tenoxicam                72.0                          Oxicam     Long\n",
            "20  Meclofenamato                60.0  Derivado del ácido antranílico     Long\n",
            "21     Oxaprozina                24.0   Derivado del ácido propiónico     Long\n",
            "24     Lornoxicam                60.0                          Oxicam     Long\n",
            "25  Fenilbutazona                72.0                      Pirazolona     Long\n"
          ]
        }
      ]
    },
    {
      "cell_type": "code",
      "source": [
        "#3 Filtrar datos\n",
        "\n",
        "less_than_6 = df[df['Vida media (horas)'] < 6]\n",
        "print(less_than_6)"
      ],
      "metadata": {
        "id": "zI2KWIOrjPZu",
        "colab": {
          "base_uri": "https://localhost:8080/"
        },
        "outputId": "705a4f51-40bd-43cc-8816-b8a8576e778a"
      },
      "execution_count": 41,
      "outputs": [
        {
          "output_type": "stream",
          "name": "stdout",
          "text": [
            "               Analgesicos  Vida media (horas)  \\\n",
            "0   Acido acetilsalicilico                 3.0   \n",
            "1              Paracetamol                 3.0   \n",
            "2               Nimesulida                 5.0   \n",
            "3              Ketoprofeno                 2.0   \n",
            "4             Indometacina                 4.5   \n",
            "5              Diclofenaco                 2.0   \n",
            "6               Ibuprofeno                 4.0   \n",
            "7         Acido mefenamico                 2.0   \n",
            "19               Tolmetina                 4.0   \n",
            "23               Etodolaco                 4.0   \n",
            "26          Dexketoprofeno                 2.0   \n",
            "\n",
            "                           Clasificación Category  \n",
            "0          Derivado del ácido salicílico    Short  \n",
            "1   No es AINE (Analgésico/antipirético)    Short  \n",
            "2                          Sulfonanilida    Short  \n",
            "3          Derivado del ácido propiónico    Short  \n",
            "4             Derivado del ácido acético    Short  \n",
            "5             Derivado del ácido acético    Short  \n",
            "6          Derivado del ácido propiónico    Short  \n",
            "7         Derivado del ácido antranílico    Short  \n",
            "19            Derivado del ácido acético    Short  \n",
            "23            Derivado del ácido acético    Short  \n",
            "26         Derivado del ácido propiónico    Short  \n"
          ]
        }
      ]
    },
    {
      "cell_type": "code",
      "source": [
        "# 4 Estadistica Descriptiva\n",
        "\n",
        "print(df.describe())\n"
      ],
      "metadata": {
        "id": "i7aVjX80lMTx",
        "colab": {
          "base_uri": "https://localhost:8080/"
        },
        "outputId": "8bb627be-894d-41d7-8cf3-fe15807944d1"
      },
      "execution_count": 29,
      "outputs": [
        {
          "output_type": "stream",
          "name": "stdout",
          "text": [
            "       Vida m(h)\n",
            "count  28.000000\n",
            "mean   17.839286\n",
            "std    22.179843\n",
            "min     2.000000\n",
            "25%     4.000000\n",
            "50%     7.000000\n",
            "75%    20.500000\n",
            "max    72.000000\n"
          ]
        }
      ]
    },
    {
      "cell_type": "code",
      "source": [
        "# 5 Agregar nuevas columnas\n",
        "\n",
        "df['Biodisponibilidad oral (%)'] = [68, 80, 90, 90, 90, 50, 49, 90, 80, 95, 85, 90, 90, 93, 22, 90, 96, 89, 90, 90, 90, 95, 35 , 90, 90, 70, 85, 90]\n",
        "print(df)\n"
      ],
      "metadata": {
        "id": "fFSIQQ_fledD",
        "colab": {
          "base_uri": "https://localhost:8080/"
        },
        "outputId": "bb54b065-3b56-4aa4-875f-de4f31b72c23"
      },
      "execution_count": 42,
      "outputs": [
        {
          "output_type": "stream",
          "name": "stdout",
          "text": [
            "               Analgesicos  Vida media (horas)  \\\n",
            "0   Acido acetilsalicilico                 3.0   \n",
            "1              Paracetamol                 3.0   \n",
            "2               Nimesulida                 5.0   \n",
            "3              Ketoprofeno                 2.0   \n",
            "4             Indometacina                 4.5   \n",
            "5              Diclofenaco                 2.0   \n",
            "6               Ibuprofeno                 4.0   \n",
            "7         Acido mefenamico                 2.0   \n",
            "8               Diflunisal                12.0   \n",
            "9                Naproxeno                15.0   \n",
            "10               Metamizol                 7.0   \n",
            "11               Piroxicam                45.0   \n",
            "12               Tenoxicam                72.0   \n",
            "13               Rofecoxib                17.0   \n",
            "14               Calecoxib                11.0   \n",
            "15             Ketoprofeno                 6.0   \n",
            "16           Flurbiprofeno                20.0   \n",
            "17               Meloxicam                22.0   \n",
            "18              Etoricoxib                 6.0   \n",
            "19               Tolmetina                 4.0   \n",
            "20           Meclofenamato                60.0   \n",
            "21              Oxaprozina                24.0   \n",
            "22              Nabumetona                 7.0   \n",
            "23               Etodolaco                 4.0   \n",
            "24              Lornoxicam                60.0   \n",
            "25           Fenilbutazona                72.0   \n",
            "26          Dexketoprofeno                 2.0   \n",
            "27           Dexibuprofeno                 8.0   \n",
            "\n",
            "                           Clasificación Category  Biodisponibilidad oral (%)  \n",
            "0          Derivado del ácido salicílico    Short                          68  \n",
            "1   No es AINE (Analgésico/antipirético)    Short                          80  \n",
            "2                          Sulfonanilida    Short                          90  \n",
            "3          Derivado del ácido propiónico    Short                          90  \n",
            "4             Derivado del ácido acético    Short                          90  \n",
            "5             Derivado del ácido acético    Short                          50  \n",
            "6          Derivado del ácido propiónico    Short                          49  \n",
            "7         Derivado del ácido antranílico    Short                          90  \n",
            "8          Derivado del ácido salicílico    Short                          80  \n",
            "9          Derivado del ácido propiónico    Short                          95  \n",
            "10                            Pirazolona    Short                          85  \n",
            "11                                Oxicam     Long                          90  \n",
            "12                                Oxicam     Long                          90  \n",
            "13             Inhibidor selectivo COX-2    Short                          93  \n",
            "14             Inhibidor selectivo COX-2    Short                          22  \n",
            "15         Derivado del ácido propiónico    Short                          90  \n",
            "16         Derivado del ácido propiónico    Short                          96  \n",
            "17                                Oxicam    Short                          89  \n",
            "18             Inhibidor selectivo COX-2    Short                          90  \n",
            "19            Derivado del ácido acético    Short                          90  \n",
            "20        Derivado del ácido antranílico     Long                          90  \n",
            "21         Derivado del ácido propiónico     Long                          95  \n",
            "22   Derivado del ácido naftilpropiónico    Short                          35  \n",
            "23            Derivado del ácido acético    Short                          90  \n",
            "24                                Oxicam     Long                          90  \n",
            "25                            Pirazolona     Long                          70  \n",
            "26         Derivado del ácido propiónico    Short                          85  \n",
            "27         Derivado del ácido propiónico    Short                          90  \n"
          ]
        }
      ]
    },
    {
      "cell_type": "code",
      "source": [
        "#6 Buscar Valores especificos\n",
        "\n",
        "print(df[df['Clasificación']== 'Oxicam'])"
      ],
      "metadata": {
        "id": "ehg_N2pKomeh",
        "colab": {
          "base_uri": "https://localhost:8080/"
        },
        "outputId": "99251203-62ea-4f9d-f60d-533e562b55d9"
      },
      "execution_count": 44,
      "outputs": [
        {
          "output_type": "stream",
          "name": "stdout",
          "text": [
            "   Analgesicos  Vida media (horas) Clasificación Category  \\\n",
            "11   Piroxicam                45.0        Oxicam     Long   \n",
            "12   Tenoxicam                72.0        Oxicam     Long   \n",
            "17   Meloxicam                22.0        Oxicam    Short   \n",
            "24  Lornoxicam                60.0        Oxicam     Long   \n",
            "\n",
            "    Biodisponibilidad oral (%)  \n",
            "11                          90  \n",
            "12                          90  \n",
            "17                          89  \n",
            "24                          90  \n"
          ]
        }
      ]
    },
    {
      "cell_type": "code",
      "source": [
        "#7 Ordenar datos\n",
        "\n",
        "df_sorted = df.sort_values(by=\"Biodisponibilidad oral (%)\", ascending=True)\n",
        "print(df_sorted)"
      ],
      "metadata": {
        "colab": {
          "base_uri": "https://localhost:8080/"
        },
        "id": "oWcllyNuBwYM",
        "outputId": "d6637d40-c8e6-4d09-9a14-3889a9fa794c"
      },
      "execution_count": 46,
      "outputs": [
        {
          "output_type": "stream",
          "name": "stdout",
          "text": [
            "               Analgesicos  Vida media (horas)  \\\n",
            "14               Calecoxib                11.0   \n",
            "22              Nabumetona                 7.0   \n",
            "6               Ibuprofeno                 4.0   \n",
            "5              Diclofenaco                 2.0   \n",
            "0   Acido acetilsalicilico                 3.0   \n",
            "25           Fenilbutazona                72.0   \n",
            "1              Paracetamol                 3.0   \n",
            "8               Diflunisal                12.0   \n",
            "10               Metamizol                 7.0   \n",
            "26          Dexketoprofeno                 2.0   \n",
            "17               Meloxicam                22.0   \n",
            "24              Lornoxicam                60.0   \n",
            "23               Etodolaco                 4.0   \n",
            "20           Meclofenamato                60.0   \n",
            "19               Tolmetina                 4.0   \n",
            "18              Etoricoxib                 6.0   \n",
            "27           Dexibuprofeno                 8.0   \n",
            "15             Ketoprofeno                 6.0   \n",
            "12               Tenoxicam                72.0   \n",
            "11               Piroxicam                45.0   \n",
            "7         Acido mefenamico                 2.0   \n",
            "4             Indometacina                 4.5   \n",
            "3              Ketoprofeno                 2.0   \n",
            "2               Nimesulida                 5.0   \n",
            "13               Rofecoxib                17.0   \n",
            "9                Naproxeno                15.0   \n",
            "21              Oxaprozina                24.0   \n",
            "16           Flurbiprofeno                20.0   \n",
            "\n",
            "                           Clasificación Category  Biodisponibilidad oral (%)  \n",
            "14             Inhibidor selectivo COX-2    Short                          22  \n",
            "22   Derivado del ácido naftilpropiónico    Short                          35  \n",
            "6          Derivado del ácido propiónico    Short                          49  \n",
            "5             Derivado del ácido acético    Short                          50  \n",
            "0          Derivado del ácido salicílico    Short                          68  \n",
            "25                            Pirazolona     Long                          70  \n",
            "1   No es AINE (Analgésico/antipirético)    Short                          80  \n",
            "8          Derivado del ácido salicílico    Short                          80  \n",
            "10                            Pirazolona    Short                          85  \n",
            "26         Derivado del ácido propiónico    Short                          85  \n",
            "17                                Oxicam    Short                          89  \n",
            "24                                Oxicam     Long                          90  \n",
            "23            Derivado del ácido acético    Short                          90  \n",
            "20        Derivado del ácido antranílico     Long                          90  \n",
            "19            Derivado del ácido acético    Short                          90  \n",
            "18             Inhibidor selectivo COX-2    Short                          90  \n",
            "27         Derivado del ácido propiónico    Short                          90  \n",
            "15         Derivado del ácido propiónico    Short                          90  \n",
            "12                                Oxicam     Long                          90  \n",
            "11                                Oxicam     Long                          90  \n",
            "7         Derivado del ácido antranílico    Short                          90  \n",
            "4             Derivado del ácido acético    Short                          90  \n",
            "3          Derivado del ácido propiónico    Short                          90  \n",
            "2                          Sulfonanilida    Short                          90  \n",
            "13             Inhibidor selectivo COX-2    Short                          93  \n",
            "9          Derivado del ácido propiónico    Short                          95  \n",
            "21         Derivado del ácido propiónico     Long                          95  \n",
            "16         Derivado del ácido propiónico    Short                          96  \n"
          ]
        }
      ]
    },
    {
      "cell_type": "code",
      "source": [
        "#8 Cambiar nombre\n",
        "\n",
        "df.rename(columns={\"Vida media (horas)\":\"Vida m(h)\", \"Analgesicos\":\"Mdx\", \"Biodisponibilidad oral (%)\": \"Bd Oral (%)\"}, inplace=True)\n",
        "print(df)\n"
      ],
      "metadata": {
        "colab": {
          "base_uri": "https://localhost:8080/"
        },
        "id": "v26hSUVDNXqK",
        "outputId": "62aa8f0a-1ed4-4758-eab1-893d10cf7336"
      },
      "execution_count": 49,
      "outputs": [
        {
          "output_type": "stream",
          "name": "stdout",
          "text": [
            "                       Mdx  Vida m(h)                         Clasificación  \\\n",
            "0   Acido acetilsalicilico        3.0         Derivado del ácido salicílico   \n",
            "1              Paracetamol        3.0  No es AINE (Analgésico/antipirético)   \n",
            "2               Nimesulida        5.0                         Sulfonanilida   \n",
            "3              Ketoprofeno        2.0         Derivado del ácido propiónico   \n",
            "4             Indometacina        4.5            Derivado del ácido acético   \n",
            "5              Diclofenaco        2.0            Derivado del ácido acético   \n",
            "6               Ibuprofeno        4.0         Derivado del ácido propiónico   \n",
            "7         Acido mefenamico        2.0        Derivado del ácido antranílico   \n",
            "8               Diflunisal       12.0         Derivado del ácido salicílico   \n",
            "9                Naproxeno       15.0         Derivado del ácido propiónico   \n",
            "10               Metamizol        7.0                            Pirazolona   \n",
            "11               Piroxicam       45.0                                Oxicam   \n",
            "12               Tenoxicam       72.0                                Oxicam   \n",
            "13               Rofecoxib       17.0             Inhibidor selectivo COX-2   \n",
            "14               Calecoxib       11.0             Inhibidor selectivo COX-2   \n",
            "15             Ketoprofeno        6.0         Derivado del ácido propiónico   \n",
            "16           Flurbiprofeno       20.0         Derivado del ácido propiónico   \n",
            "17               Meloxicam       22.0                                Oxicam   \n",
            "18              Etoricoxib        6.0             Inhibidor selectivo COX-2   \n",
            "19               Tolmetina        4.0            Derivado del ácido acético   \n",
            "20           Meclofenamato       60.0        Derivado del ácido antranílico   \n",
            "21              Oxaprozina       24.0         Derivado del ácido propiónico   \n",
            "22              Nabumetona        7.0   Derivado del ácido naftilpropiónico   \n",
            "23               Etodolaco        4.0            Derivado del ácido acético   \n",
            "24              Lornoxicam       60.0                                Oxicam   \n",
            "25           Fenilbutazona       72.0                            Pirazolona   \n",
            "26          Dexketoprofeno        2.0         Derivado del ácido propiónico   \n",
            "27           Dexibuprofeno        8.0         Derivado del ácido propiónico   \n",
            "\n",
            "   Category  Bd Oral (%)  \n",
            "0     Short           68  \n",
            "1     Short           80  \n",
            "2     Short           90  \n",
            "3     Short           90  \n",
            "4     Short           90  \n",
            "5     Short           50  \n",
            "6     Short           49  \n",
            "7     Short           90  \n",
            "8     Short           80  \n",
            "9     Short           95  \n",
            "10    Short           85  \n",
            "11     Long           90  \n",
            "12     Long           90  \n",
            "13    Short           93  \n",
            "14    Short           22  \n",
            "15    Short           90  \n",
            "16    Short           96  \n",
            "17    Short           89  \n",
            "18    Short           90  \n",
            "19    Short           90  \n",
            "20     Long           90  \n",
            "21     Long           95  \n",
            "22    Short           35  \n",
            "23    Short           90  \n",
            "24     Long           90  \n",
            "25     Long           70  \n",
            "26    Short           85  \n",
            "27    Short           90  \n"
          ]
        }
      ]
    },
    {
      "cell_type": "code",
      "source": [
        "#9 Agrupar datos\n",
        "\n",
        "grouped = df.groupby(\"Mdx\")[\"Vida m(h)\"].mean()\n",
        "print(grouped)"
      ],
      "metadata": {
        "colab": {
          "base_uri": "https://localhost:8080/"
        },
        "id": "mrh6ocyMQLsy",
        "outputId": "b4f4b9c3-bcae-46ce-f671-b46c92f4add1"
      },
      "execution_count": 36,
      "outputs": [
        {
          "output_type": "stream",
          "name": "stdout",
          "text": [
            "Mdx\n",
            "Acido acetilsalicilico     3.0\n",
            "Acido mefenamico           2.0\n",
            "Calecoxib                 11.0\n",
            "Dexibuprofeno              8.0\n",
            "Dexketoprofeno             2.0\n",
            "Diclofenaco                2.0\n",
            "Diflunisal                12.0\n",
            "Etodolaco                  4.0\n",
            "Etoricoxib                 6.0\n",
            "Fenilbutazona             72.0\n",
            "Flurbiprofeno             20.0\n",
            "Ibuprofeno                 4.0\n",
            "Indometacina               4.5\n",
            "Ketoprofeno                4.0\n",
            "Lornoxicam                60.0\n",
            "Meclofenamato             60.0\n",
            "Meloxicam                 22.0\n",
            "Metamizol                  7.0\n",
            "Nabumetona                 7.0\n",
            "Naproxeno                 15.0\n",
            "Nimesulida                 5.0\n",
            "Oxaprozina                24.0\n",
            "Paracetamol                3.0\n",
            "Piroxicam                 45.0\n",
            "Rofecoxib                 17.0\n",
            "Tenoxicam                 72.0\n",
            "Tolmetina                  4.0\n",
            "Name: Vida m(h), dtype: float64\n"
          ]
        }
      ]
    },
    {
      "cell_type": "code",
      "source": [
        "#10. Quitar duplicados\n",
        "\n",
        "df_no_duplicates = df.drop_duplicates(subset=\"Clasificación\")\n",
        "print(df_no_duplicates)"
      ],
      "metadata": {
        "colab": {
          "base_uri": "https://localhost:8080/"
        },
        "id": "yvm0-ndVRq-T",
        "outputId": "0df292bc-5973-415e-9fed-1d4571c217d6"
      },
      "execution_count": 37,
      "outputs": [
        {
          "output_type": "stream",
          "name": "stdout",
          "text": [
            "                       Mdx  Vida m(h)                         Clasificación\n",
            "0   Acido acetilsalicilico        3.0         Derivado del ácido salicílico\n",
            "1              Paracetamol        3.0  No es AINE (Analgésico/antipirético)\n",
            "2               Nimesulida        5.0                         Sulfonanilida\n",
            "3              Ketoprofeno        2.0         Derivado del ácido propiónico\n",
            "4             Indometacina        4.5            Derivado del ácido acético\n",
            "7         Acido mefenamico        2.0        Derivado del ácido antranílico\n",
            "10               Metamizol        7.0                            Pirazolona\n",
            "11               Piroxicam       45.0                                Oxicam\n",
            "13               Rofecoxib       17.0             Inhibidor selectivo COX-2\n",
            "22              Nabumetona        7.0   Derivado del ácido naftilpropiónico\n"
          ]
        }
      ]
    },
    {
      "cell_type": "code",
      "source": [
        "#11 Buscar valores\n",
        "\n",
        "print(df[df[\"Clasificación\"] == \"Derivado del ácido salicílico\"])"
      ],
      "metadata": {
        "colab": {
          "base_uri": "https://localhost:8080/"
        },
        "id": "ZY_b-lNWbA14",
        "outputId": "c450757e-e393-4f4b-c48a-2ffa185eaa29"
      },
      "execution_count": 38,
      "outputs": [
        {
          "output_type": "stream",
          "name": "stdout",
          "text": [
            "                      Mdx  Vida m(h)                  Clasificación\n",
            "0  Acido acetilsalicilico        3.0  Derivado del ácido salicílico\n",
            "8              Diflunisal       12.0  Derivado del ácido salicílico\n"
          ]
        }
      ]
    }
  ]
}