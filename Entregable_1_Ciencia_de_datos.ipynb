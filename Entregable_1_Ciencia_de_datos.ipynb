{
  "nbformat": 4,
  "nbformat_minor": 0,
  "metadata": {
    "colab": {
      "provenance": [],
      "include_colab_link": true
    },
    "kernelspec": {
      "name": "python3",
      "display_name": "Python 3"
    },
    "language_info": {
      "name": "python"
    }
  },
  "cells": [
    {
      "cell_type": "markdown",
      "metadata": {
        "id": "view-in-github",
        "colab_type": "text"
      },
      "source": [
        "<a href=\"https://colab.research.google.com/github/valjara9/Entregable-1/blob/master/Entregable_1_Ciencia_de_datos.ipynb\" target=\"_parent\"><img src=\"https://colab.research.google.com/assets/colab-badge.svg\" alt=\"Open In Colab\"/></a>"
      ]
    },
    {
      "cell_type": "markdown",
      "source": [
        "##**Ejercicio 1**\n",
        "Promedio de tres números\n"
      ],
      "metadata": {
        "id": "FQi1yrg1HsZo"
      }
    },
    {
      "cell_type": "markdown",
      "source": [],
      "metadata": {
        "id": "7VoPuI7_N5gn"
      }
    },
    {
      "cell_type": "code",
      "source": [
        "n1 = float(input(\"ingrese el primer número \"))\n",
        "n2 = float(input(\"ingrese el segundo número \"))\n",
        "n3 = float(input(\"ingrese el tercer número \"))\n",
        "\n",
        "prom = (n1 + n2 + n3) / 3\n",
        "prom = round(prom, 2)\n",
        "\n",
        "print (\"El promedio es \",prom)\n",
        "\n"
      ],
      "metadata": {
        "id": "gNZON3oSH5NB"
      },
      "execution_count": null,
      "outputs": []
    },
    {
      "cell_type": "markdown",
      "source": [
        "##**Ejercicio 2**\n",
        "\n",
        "Par o impar"
      ],
      "metadata": {
        "id": "Z81av8-j1fUz"
      }
    },
    {
      "cell_type": "code",
      "source": [
        "n1 = float(input(\"Digitar el número \"))\n",
        "\n",
        "#el operador % devuelve el residuo de la división entre los número seleccionados\n",
        "if n1 % 2 == 0:\n",
        "  print (\"El número es par\")\n",
        "else:\n",
        "  print (\"El número es impar\")"
      ],
      "metadata": {
        "colab": {
          "base_uri": "https://localhost:8080/"
        },
        "id": "oBpjp5aA2EPL",
        "outputId": "9432e25f-df28-481f-e565-4342f4719859"
      },
      "execution_count": null,
      "outputs": [
        {
          "output_type": "stream",
          "name": "stdout",
          "text": [
            "Digitar el número 7\n",
            "El número es impar\n"
          ]
        }
      ]
    },
    {
      "cell_type": "markdown",
      "source": [
        "##**Ejercicio 3**\n",
        "\n",
        "Factorial"
      ],
      "metadata": {
        "id": "f20_rpw_WqXG"
      }
    },
    {
      "cell_type": "code",
      "source": [
        "n1 = float(input(\"Digitar el número \"))\n",
        "\n",
        "if n1 <0:\n",
        "  print (\"No se puede calcular\")\n",
        "else:\n",
        "  x = 1\n",
        "  fact = 1\n",
        "  while x <= n1:\n",
        "    fact = fact * x\n",
        "    x = x + 1\n",
        "print (\"El factorial del número es: \",fact)"
      ],
      "metadata": {
        "id": "odpCVKQKowoz"
      },
      "execution_count": null,
      "outputs": []
    },
    {
      "cell_type": "markdown",
      "source": [
        "##**Ejercicio 4**\n",
        "\n",
        "Raiz Cuadrada"
      ],
      "metadata": {
        "id": "GqLZA_euByuF"
      }
    },
    {
      "cell_type": "code",
      "source": [
        "#1 Utilizando el modulo math de Phyton\n",
        "# prompt: raiz cuadrada\n",
        "\n",
        "import math\n",
        "\n",
        "n1 = float(input(\"Digite el número \"))\n",
        "\n",
        "if n1 < 0:\n",
        "  print (\"No es posible calcular la raíz cuadrada de un número negativo\")\n",
        "else:\n",
        "  raiz = math.sqrt(n1)\n",
        "  print(\"La raíz cuadrada del numero\", n1, \"es\", raiz)\n"
      ],
      "metadata": {
        "id": "XeECdCv1ByuN",
        "colab": {
          "base_uri": "https://localhost:8080/"
        },
        "outputId": "08c82273-b65d-4e8c-dd72-67183934ea71"
      },
      "execution_count": null,
      "outputs": [
        {
          "output_type": "stream",
          "name": "stdout",
          "text": [
            "Digite el número 49\n",
            "La raíz cuadrada del numero 49.0 es 7.0\n"
          ]
        }
      ]
    },
    {
      "cell_type": "markdown",
      "source": [
        "##**Ejercicio 5**\n",
        "\n",
        "M.C.M"
      ],
      "metadata": {
        "id": "Fw0Jl2PuKCz8"
      }
    },
    {
      "cell_type": "code",
      "source": [
        "# prompt:  Minimo comun multiplo\n",
        "\n",
        "def mcd(a, b):\n",
        "  \"\"\"Calcula el máximo común divisor (MCD) de dos números.\"\"\"\n",
        "  while b:\n",
        "    a, b = b, a % b\n",
        "  return a\n",
        "\n",
        "def mcm(a, b):\n",
        "  \"\"\"Calcula el mínimo común múltiplo (MCM) de dos números.\"\"\"\n",
        "  return (a * b) // mcd(a, b)\n",
        "\n",
        "num1 = int(input(\"Ingrese el 1er número: \"))\n",
        "num2 = int(input(\"Ingrese el 2do número: \"))\n",
        "\n",
        "print(\"El mínimo común múltiplo del numero\", num1, \"y\", num2, \"es:\", mcm(num1, num2))\n"
      ],
      "metadata": {
        "id": "Tji9Gs9OKLCw",
        "colab": {
          "base_uri": "https://localhost:8080/"
        },
        "outputId": "2ae54adc-66a4-46fe-f993-32c653045c41"
      },
      "execution_count": null,
      "outputs": [
        {
          "output_type": "stream",
          "name": "stdout",
          "text": [
            "Ingrese el 1er número: 8\n",
            "Ingrese el 2do número: 6\n",
            "El mínimo común múltiplo del numero 8 y 6 es: 24\n"
          ]
        }
      ]
    }
  ]
}